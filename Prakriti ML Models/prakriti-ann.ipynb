{
 "cells": [
  {
   "cell_type": "code",
   "execution_count": 13,
   "metadata": {},
   "outputs": [],
   "source": [
    "import pandas as pd\n",
    "import numpy as np"
   ]
  },
  {
   "cell_type": "code",
   "execution_count": 14,
   "metadata": {},
   "outputs": [
    {
     "data": {
      "text/html": [
       "<div>\n",
       "<style scoped>\n",
       "    .dataframe tbody tr th:only-of-type {\n",
       "        vertical-align: middle;\n",
       "    }\n",
       "\n",
       "    .dataframe tbody tr th {\n",
       "        vertical-align: top;\n",
       "    }\n",
       "\n",
       "    .dataframe thead th {\n",
       "        text-align: right;\n",
       "    }\n",
       "</style>\n",
       "<table border=\"1\" class=\"dataframe\">\n",
       "  <thead>\n",
       "    <tr style=\"text-align: right;\">\n",
       "      <th></th>\n",
       "      <th>Gender</th>\n",
       "      <th>bodyFrame_Breadth</th>\n",
       "      <th>skin_Nature</th>\n",
       "      <th>skin_Color</th>\n",
       "      <th>weight_Changes</th>\n",
       "      <th>nails_color</th>\n",
       "      <th>teeth_Color</th>\n",
       "      <th>teeth_Shape</th>\n",
       "      <th>recalling_speed</th>\n",
       "      <th>memorizing_speed</th>\n",
       "      <th>...</th>\n",
       "      <th>appetite_Frequency</th>\n",
       "      <th>bladder_Frequency</th>\n",
       "      <th>perspiration_Amount</th>\n",
       "      <th>stool_Consistency</th>\n",
       "      <th>mental_Power</th>\n",
       "      <th>physical_Power</th>\n",
       "      <th>Anger_Freq</th>\n",
       "      <th>Irritability_speed</th>\n",
       "      <th>speech_Argumentative</th>\n",
       "      <th>class</th>\n",
       "    </tr>\n",
       "  </thead>\n",
       "  <tbody>\n",
       "    <tr>\n",
       "      <th>0</th>\n",
       "      <td>Male</td>\n",
       "      <td>Thin/Narrow</td>\n",
       "      <td>Dry</td>\n",
       "      <td>Whitish</td>\n",
       "      <td>Gainandloseeasily</td>\n",
       "      <td>Pink</td>\n",
       "      <td>MilkyWhite</td>\n",
       "      <td>Regular</td>\n",
       "      <td>Moderately</td>\n",
       "      <td>Moderately</td>\n",
       "      <td>...</td>\n",
       "      <td>Regular</td>\n",
       "      <td>Regular</td>\n",
       "      <td>Medium</td>\n",
       "      <td>Medium</td>\n",
       "      <td>Grade1</td>\n",
       "      <td>Grade2</td>\n",
       "      <td>Good</td>\n",
       "      <td>Quickly</td>\n",
       "      <td>Non_Argumentative</td>\n",
       "      <td>Vata</td>\n",
       "    </tr>\n",
       "    <tr>\n",
       "      <th>1</th>\n",
       "      <td>Male</td>\n",
       "      <td>Broad</td>\n",
       "      <td>Normal</td>\n",
       "      <td>Whitish</td>\n",
       "      <td>Gainandloseeasily</td>\n",
       "      <td>Reddish</td>\n",
       "      <td>MilkyWhite</td>\n",
       "      <td>Regular</td>\n",
       "      <td>Moderately</td>\n",
       "      <td>Moderately</td>\n",
       "      <td>...</td>\n",
       "      <td>Regular</td>\n",
       "      <td>Regular</td>\n",
       "      <td>Medium</td>\n",
       "      <td>Medium</td>\n",
       "      <td>Grade2</td>\n",
       "      <td>Grade3</td>\n",
       "      <td>Poor</td>\n",
       "      <td>Slowly</td>\n",
       "      <td>Non_Argumentative</td>\n",
       "      <td>Kapha</td>\n",
       "    </tr>\n",
       "    <tr>\n",
       "      <th>2</th>\n",
       "      <td>Male</td>\n",
       "      <td>Thin/Narrow</td>\n",
       "      <td>Dry</td>\n",
       "      <td>Whitish</td>\n",
       "      <td>Difficultyingaining</td>\n",
       "      <td>Pink</td>\n",
       "      <td>Yellowish</td>\n",
       "      <td>Irregular</td>\n",
       "      <td>Slowly</td>\n",
       "      <td>Moderately</td>\n",
       "      <td>...</td>\n",
       "      <td>Irregular</td>\n",
       "      <td>Regular</td>\n",
       "      <td>Medium</td>\n",
       "      <td>Hard</td>\n",
       "      <td>Grade1</td>\n",
       "      <td>Grade2</td>\n",
       "      <td>Poor</td>\n",
       "      <td>Moderately</td>\n",
       "      <td>Non_Argumentative</td>\n",
       "      <td>Vata</td>\n",
       "    </tr>\n",
       "    <tr>\n",
       "      <th>3</th>\n",
       "      <td>Male</td>\n",
       "      <td>Thin/Narrow</td>\n",
       "      <td>Dry</td>\n",
       "      <td>FairPaleYellow</td>\n",
       "      <td>Difficultyingaining</td>\n",
       "      <td>Pink</td>\n",
       "      <td>Dull/Blackish</td>\n",
       "      <td>Regular</td>\n",
       "      <td>Variably</td>\n",
       "      <td>Quickly</td>\n",
       "      <td>...</td>\n",
       "      <td>Irregular</td>\n",
       "      <td>Regular</td>\n",
       "      <td>Medium</td>\n",
       "      <td>Hard</td>\n",
       "      <td>Grade1</td>\n",
       "      <td>Grade1</td>\n",
       "      <td>Medium</td>\n",
       "      <td>Quickly</td>\n",
       "      <td>Non_Argumentative</td>\n",
       "      <td>Vata</td>\n",
       "    </tr>\n",
       "    <tr>\n",
       "      <th>4</th>\n",
       "      <td>Male</td>\n",
       "      <td>Broad</td>\n",
       "      <td>Normal</td>\n",
       "      <td>Dark</td>\n",
       "      <td>Gaineasilyandlosewithdifficulty</td>\n",
       "      <td>Pink</td>\n",
       "      <td>MilkyWhite</td>\n",
       "      <td>Regular</td>\n",
       "      <td>Moderately</td>\n",
       "      <td>Slowly</td>\n",
       "      <td>...</td>\n",
       "      <td>Regular</td>\n",
       "      <td>Regular</td>\n",
       "      <td>Medium</td>\n",
       "      <td>Medium</td>\n",
       "      <td>Grade2</td>\n",
       "      <td>Grade3</td>\n",
       "      <td>Good</td>\n",
       "      <td>Moderately</td>\n",
       "      <td>Non_Argumentative</td>\n",
       "      <td>Kapha</td>\n",
       "    </tr>\n",
       "  </tbody>\n",
       "</table>\n",
       "<p>5 rows × 35 columns</p>\n",
       "</div>"
      ],
      "text/plain": [
       "  Gender bodyFrame_Breadth skin_Nature      skin_Color  \\\n",
       "0   Male       Thin/Narrow         Dry         Whitish   \n",
       "1   Male             Broad      Normal         Whitish   \n",
       "2   Male       Thin/Narrow         Dry         Whitish   \n",
       "3   Male       Thin/Narrow         Dry  FairPaleYellow   \n",
       "4   Male             Broad      Normal            Dark   \n",
       "\n",
       "                    weight_Changes nails_color    teeth_Color teeth_Shape  \\\n",
       "0                Gainandloseeasily        Pink     MilkyWhite     Regular   \n",
       "1                Gainandloseeasily     Reddish     MilkyWhite     Regular   \n",
       "2              Difficultyingaining        Pink      Yellowish   Irregular   \n",
       "3              Difficultyingaining        Pink  Dull/Blackish     Regular   \n",
       "4  Gaineasilyandlosewithdifficulty        Pink     MilkyWhite     Regular   \n",
       "\n",
       "  recalling_speed memorizing_speed  ... appetite_Frequency bladder_Frequency  \\\n",
       "0      Moderately       Moderately  ...            Regular           Regular   \n",
       "1      Moderately       Moderately  ...            Regular           Regular   \n",
       "2          Slowly       Moderately  ...          Irregular           Regular   \n",
       "3        Variably          Quickly  ...          Irregular           Regular   \n",
       "4      Moderately           Slowly  ...            Regular           Regular   \n",
       "\n",
       "  perspiration_Amount stool_Consistency mental_Power physical_Power  \\\n",
       "0              Medium            Medium       Grade1         Grade2   \n",
       "1              Medium            Medium       Grade2         Grade3   \n",
       "2              Medium              Hard       Grade1         Grade2   \n",
       "3              Medium              Hard       Grade1         Grade1   \n",
       "4              Medium            Medium       Grade2         Grade3   \n",
       "\n",
       "  Anger_Freq Irritability_speed speech_Argumentative  class  \n",
       "0       Good            Quickly    Non_Argumentative   Vata  \n",
       "1       Poor             Slowly    Non_Argumentative  Kapha  \n",
       "2       Poor         Moderately    Non_Argumentative   Vata  \n",
       "3     Medium            Quickly    Non_Argumentative   Vata  \n",
       "4       Good         Moderately    Non_Argumentative  Kapha  \n",
       "\n",
       "[5 rows x 35 columns]"
      ]
     },
     "execution_count": 14,
     "metadata": {},
     "output_type": "execute_result"
    }
   ],
   "source": [
    "dataset = pd.read_csv('updated_data.csv')\n",
    "dataset.head()"
   ]
  },
  {
   "cell_type": "code",
   "execution_count": 15,
   "metadata": {},
   "outputs": [
    {
     "name": "stdout",
     "output_type": "stream",
     "text": [
      "Gender:\t\t ['Male' 'Female']\n",
      "bodyFrame_Breadth:\t\t ['Thin/Narrow' 'Broad' 'Medium']\n",
      "skin_Nature:\t\t ['Dry' 'Normal' 'Oily' 'Seasonal/Variable']\n",
      "skin_Color:\t\t ['Whitish' 'FairPaleYellow' 'Dark' 'FairReddish' 'FairPink']\n",
      "weight_Changes:\t\t ['Gainandloseeasily' 'Difficultyingaining'\n",
      " 'Gaineasilyandlosewithdifficulty' 'Stable']\n",
      "nails_color:\t\t ['Pink' 'Reddish' 'PaleYellow']\n",
      "teeth_Color:\t\t ['MilkyWhite' 'Yellowish' 'Dull/Blackish']\n",
      "teeth_Shape:\t\t ['Regular' 'Irregular']\n",
      "recalling_speed:\t\t ['Moderately' 'Slowly' 'Variably' 'Quickly']\n",
      "memorizing_speed:\t\t ['Moderately' 'Quickly' 'Slowly' 'Variably']\n",
      "sleep_Amount:\t\t ['Medium' 'High' 'Low' 'Variable']\n",
      "sleep_Quality:\t\t ['Sound' 'Deep' 'Shallow']\n",
      "speaking_Amount:\t\t ['Moderate' 'Less' 'Excessive']\n",
      "speaking_Speed:\t\t ['Medium' 'Quick' 'Slow' 'Variable']\n",
      "walking_Speed:\t\t ['Quick/Fast/Brisk' 'Medium' 'Slow' 'Variable']\n",
      "bowel_Freq:\t\t ['Regular' 'Irregular' 'Variable']\n",
      "retainingFriends_quality:\t\t ['Medium' 'Poor' 'Good']\n",
      "dreams_Amount:\t\t ['Low' 'Medium' 'High' 'Variable']\n",
      "voice_clear:\t\t ['Clear' 'Non_Clear']\n",
      "eye_Color:\t\t ['DarkBrown' 'LightBrown' 'Black' 'Grayish']\n",
      "healthproblem_in_temp:\t\t ['Warm' nan 'Cold' 'Both']\n",
      "hair_Growth:\t\t ['Moderate' 'Scanty' 'Dense']\n",
      "hair_Type:\t\t ['Thin' 'Thick']\n",
      "hair_Nature2:\t\t ['Non_Falling' 'Falling']\n",
      "appetite_Amount:\t\t ['Low' 'Medium' 'High' 'Variable']\n",
      "appetite_Frequency:\t\t ['Regular' 'Irregular']\n",
      "bladder_Frequency:\t\t ['Regular' 'Irregular']\n",
      "perspiration_Amount:\t\t ['Medium' 'High' 'Low']\n",
      "stool_Consistency:\t\t ['Medium' 'Hard' 'Loose/Soft/Semisolid']\n",
      "mental_Power:\t\t ['Grade1' 'Grade2' 'Grade3']\n",
      "physical_Power:\t\t ['Grade2' 'Grade3' 'Grade1']\n",
      "Anger_Freq:\t\t ['Good' 'Poor' 'Medium']\n",
      "Irritability_speed:\t\t ['Quickly' 'Slowly' 'Moderately' 'Variably']\n",
      "speech_Argumentative:\t\t ['Non_Argumentative' 'Argumentative']\n",
      "class:\t\t ['Vata' 'Kapha' 'Pitta']\n"
     ]
    }
   ],
   "source": [
    "def print_unique_values():\n",
    "    for column in dataset:\n",
    "        print(f'{column}:\\t\\t {dataset[column].unique()}')\n",
    "print_unique_values()"
   ]
  },
  {
   "cell_type": "code",
   "execution_count": 16,
   "metadata": {},
   "outputs": [
    {
     "data": {
      "text/html": [
       "<div>\n",
       "<style scoped>\n",
       "    .dataframe tbody tr th:only-of-type {\n",
       "        vertical-align: middle;\n",
       "    }\n",
       "\n",
       "    .dataframe tbody tr th {\n",
       "        vertical-align: top;\n",
       "    }\n",
       "\n",
       "    .dataframe thead th {\n",
       "        text-align: right;\n",
       "    }\n",
       "</style>\n",
       "<table border=\"1\" class=\"dataframe\">\n",
       "  <thead>\n",
       "    <tr style=\"text-align: right;\">\n",
       "      <th></th>\n",
       "      <th>Gender</th>\n",
       "      <th>bodyFrame_Breadth</th>\n",
       "      <th>skin_Nature</th>\n",
       "      <th>skin_Color</th>\n",
       "      <th>weight_Changes</th>\n",
       "      <th>nails_color</th>\n",
       "      <th>teeth_Color</th>\n",
       "      <th>teeth_Shape</th>\n",
       "      <th>recalling_speed</th>\n",
       "      <th>memorizing_speed</th>\n",
       "      <th>...</th>\n",
       "      <th>appetite_Frequency</th>\n",
       "      <th>bladder_Frequency</th>\n",
       "      <th>perspiration_Amount</th>\n",
       "      <th>stool_Consistency</th>\n",
       "      <th>mental_Power</th>\n",
       "      <th>physical_Power</th>\n",
       "      <th>Anger_Freq</th>\n",
       "      <th>Irritability_speed</th>\n",
       "      <th>speech_Argumentative</th>\n",
       "      <th>class</th>\n",
       "    </tr>\n",
       "  </thead>\n",
       "  <tbody>\n",
       "    <tr>\n",
       "      <th>0</th>\n",
       "      <td>1</td>\n",
       "      <td>2</td>\n",
       "      <td>0</td>\n",
       "      <td>4</td>\n",
       "      <td>1</td>\n",
       "      <td>1</td>\n",
       "      <td>1</td>\n",
       "      <td>1</td>\n",
       "      <td>0</td>\n",
       "      <td>0</td>\n",
       "      <td>...</td>\n",
       "      <td>1</td>\n",
       "      <td>1</td>\n",
       "      <td>2</td>\n",
       "      <td>2</td>\n",
       "      <td>0</td>\n",
       "      <td>1</td>\n",
       "      <td>0</td>\n",
       "      <td>1</td>\n",
       "      <td>1</td>\n",
       "      <td>2</td>\n",
       "    </tr>\n",
       "    <tr>\n",
       "      <th>1</th>\n",
       "      <td>1</td>\n",
       "      <td>0</td>\n",
       "      <td>1</td>\n",
       "      <td>4</td>\n",
       "      <td>1</td>\n",
       "      <td>2</td>\n",
       "      <td>1</td>\n",
       "      <td>1</td>\n",
       "      <td>0</td>\n",
       "      <td>0</td>\n",
       "      <td>...</td>\n",
       "      <td>1</td>\n",
       "      <td>1</td>\n",
       "      <td>2</td>\n",
       "      <td>2</td>\n",
       "      <td>1</td>\n",
       "      <td>2</td>\n",
       "      <td>2</td>\n",
       "      <td>2</td>\n",
       "      <td>1</td>\n",
       "      <td>0</td>\n",
       "    </tr>\n",
       "    <tr>\n",
       "      <th>2</th>\n",
       "      <td>1</td>\n",
       "      <td>2</td>\n",
       "      <td>0</td>\n",
       "      <td>4</td>\n",
       "      <td>0</td>\n",
       "      <td>1</td>\n",
       "      <td>2</td>\n",
       "      <td>0</td>\n",
       "      <td>2</td>\n",
       "      <td>0</td>\n",
       "      <td>...</td>\n",
       "      <td>0</td>\n",
       "      <td>1</td>\n",
       "      <td>2</td>\n",
       "      <td>0</td>\n",
       "      <td>0</td>\n",
       "      <td>1</td>\n",
       "      <td>2</td>\n",
       "      <td>0</td>\n",
       "      <td>1</td>\n",
       "      <td>2</td>\n",
       "    </tr>\n",
       "    <tr>\n",
       "      <th>3</th>\n",
       "      <td>1</td>\n",
       "      <td>2</td>\n",
       "      <td>0</td>\n",
       "      <td>1</td>\n",
       "      <td>0</td>\n",
       "      <td>1</td>\n",
       "      <td>0</td>\n",
       "      <td>1</td>\n",
       "      <td>3</td>\n",
       "      <td>1</td>\n",
       "      <td>...</td>\n",
       "      <td>0</td>\n",
       "      <td>1</td>\n",
       "      <td>2</td>\n",
       "      <td>0</td>\n",
       "      <td>0</td>\n",
       "      <td>0</td>\n",
       "      <td>1</td>\n",
       "      <td>1</td>\n",
       "      <td>1</td>\n",
       "      <td>2</td>\n",
       "    </tr>\n",
       "    <tr>\n",
       "      <th>4</th>\n",
       "      <td>1</td>\n",
       "      <td>0</td>\n",
       "      <td>1</td>\n",
       "      <td>0</td>\n",
       "      <td>2</td>\n",
       "      <td>1</td>\n",
       "      <td>1</td>\n",
       "      <td>1</td>\n",
       "      <td>0</td>\n",
       "      <td>2</td>\n",
       "      <td>...</td>\n",
       "      <td>1</td>\n",
       "      <td>1</td>\n",
       "      <td>2</td>\n",
       "      <td>2</td>\n",
       "      <td>1</td>\n",
       "      <td>2</td>\n",
       "      <td>0</td>\n",
       "      <td>0</td>\n",
       "      <td>1</td>\n",
       "      <td>0</td>\n",
       "    </tr>\n",
       "  </tbody>\n",
       "</table>\n",
       "<p>5 rows × 35 columns</p>\n",
       "</div>"
      ],
      "text/plain": [
       "   Gender  bodyFrame_Breadth  skin_Nature  skin_Color  weight_Changes  \\\n",
       "0       1                  2            0           4               1   \n",
       "1       1                  0            1           4               1   \n",
       "2       1                  2            0           4               0   \n",
       "3       1                  2            0           1               0   \n",
       "4       1                  0            1           0               2   \n",
       "\n",
       "   nails_color  teeth_Color  teeth_Shape  recalling_speed  memorizing_speed  \\\n",
       "0            1            1            1                0                 0   \n",
       "1            2            1            1                0                 0   \n",
       "2            1            2            0                2                 0   \n",
       "3            1            0            1                3                 1   \n",
       "4            1            1            1                0                 2   \n",
       "\n",
       "   ...  appetite_Frequency  bladder_Frequency  perspiration_Amount  \\\n",
       "0  ...                   1                  1                    2   \n",
       "1  ...                   1                  1                    2   \n",
       "2  ...                   0                  1                    2   \n",
       "3  ...                   0                  1                    2   \n",
       "4  ...                   1                  1                    2   \n",
       "\n",
       "   stool_Consistency  mental_Power  physical_Power  Anger_Freq  \\\n",
       "0                  2             0               1           0   \n",
       "1                  2             1               2           2   \n",
       "2                  0             0               1           2   \n",
       "3                  0             0               0           1   \n",
       "4                  2             1               2           0   \n",
       "\n",
       "   Irritability_speed  speech_Argumentative  class  \n",
       "0                   1                     1      2  \n",
       "1                   2                     1      0  \n",
       "2                   0                     1      2  \n",
       "3                   1                     1      2  \n",
       "4                   0                     1      0  \n",
       "\n",
       "[5 rows x 35 columns]"
      ]
     },
     "execution_count": 16,
     "metadata": {},
     "output_type": "execute_result"
    }
   ],
   "source": [
    "from sklearn.preprocessing import LabelEncoder\n",
    "\n",
    "le = LabelEncoder()\n",
    "data_encoded = dataset.apply(le.fit_transform)\n",
    "\n",
    "data_encoded.head()"
   ]
  },
  {
   "cell_type": "code",
   "execution_count": 17,
   "metadata": {},
   "outputs": [
    {
     "name": "stdout",
     "output_type": "stream",
     "text": [
      "(147, 34)\n"
     ]
    }
   ],
   "source": [
    "X=data_encoded.iloc[:,:-1].values\n",
    "y=data_encoded.iloc[:,-1].values\n",
    "\n",
    "print(X.shape)"
   ]
  },
  {
   "cell_type": "code",
   "execution_count": 18,
   "metadata": {},
   "outputs": [
    {
     "data": {
      "text/plain": [
       "['Kapha', 'Pitta', 'Vata']"
      ]
     },
     "execution_count": 18,
     "metadata": {},
     "output_type": "execute_result"
    }
   ],
   "source": [
    "list(le.classes_)"
   ]
  },
  {
   "cell_type": "code",
   "execution_count": 19,
   "metadata": {},
   "outputs": [
    {
     "name": "stdout",
     "output_type": "stream",
     "text": [
      "Column: Gender\n",
      "{'Female': 0, 'Male': 1}\n",
      "Column: bodyFrame_Breadth\n",
      "{'Broad': 0, 'Medium': 1, 'Thin/Narrow': 2}\n",
      "Column: skin_Nature\n",
      "{'Dry': 0, 'Normal': 1, 'Oily': 2, 'Seasonal/Variable': 3}\n",
      "Column: skin_Color\n",
      "{'Dark': 0, 'FairPaleYellow': 1, 'FairPink': 2, 'FairReddish': 3, 'Whitish': 4}\n",
      "Column: weight_Changes\n",
      "{'Difficultyingaining': 0, 'Gainandloseeasily': 1, 'Gaineasilyandlosewithdifficulty': 2, 'Stable': 3}\n",
      "Column: nails_color\n",
      "{'PaleYellow': 0, 'Pink': 1, 'Reddish': 2}\n",
      "Column: teeth_Color\n",
      "{'Dull/Blackish': 0, 'MilkyWhite': 1, 'Yellowish': 2}\n",
      "Column: teeth_Shape\n",
      "{'Irregular': 0, 'Regular': 1}\n",
      "Column: recalling_speed\n",
      "{'Moderately': 0, 'Quickly': 1, 'Slowly': 2, 'Variably': 3}\n",
      "Column: memorizing_speed\n",
      "{'Moderately': 0, 'Quickly': 1, 'Slowly': 2, 'Variably': 3}\n",
      "Column: sleep_Amount\n",
      "{'High': 0, 'Low': 1, 'Medium': 2, 'Variable': 3}\n",
      "Column: sleep_Quality\n",
      "{'Deep': 0, 'Shallow': 1, 'Sound': 2}\n",
      "Column: speaking_Amount\n",
      "{'Excessive': 0, 'Less': 1, 'Moderate': 2}\n",
      "Column: speaking_Speed\n",
      "{'Medium': 0, 'Quick': 1, 'Slow': 2, 'Variable': 3}\n",
      "Column: walking_Speed\n",
      "{'Medium': 0, 'Quick/Fast/Brisk': 1, 'Slow': 2, 'Variable': 3}\n",
      "Column: bowel_Freq\n",
      "{'Irregular': 0, 'Regular': 1, 'Variable': 2}\n",
      "Column: retainingFriends_quality\n",
      "{'Good': 0, 'Medium': 1, 'Poor': 2}\n",
      "Column: dreams_Amount\n",
      "{'High': 0, 'Low': 1, 'Medium': 2, 'Variable': 3}\n",
      "Column: voice_clear\n",
      "{'Clear': 0, 'Non_Clear': 1}\n",
      "Column: eye_Color\n",
      "{'Black': 0, 'DarkBrown': 1, 'Grayish': 2, 'LightBrown': 3}\n",
      "Column: healthproblem_in_temp\n",
      "{'Both': 0, 'Cold': 1, 'Warm': 2, nan: 3}\n",
      "Column: hair_Growth\n",
      "{'Dense': 0, 'Moderate': 1, 'Scanty': 2}\n",
      "Column: hair_Type\n",
      "{'Thick': 0, 'Thin': 1}\n",
      "Column: hair_Nature2\n",
      "{'Falling': 0, 'Non_Falling': 1}\n",
      "Column: appetite_Amount\n",
      "{'High': 0, 'Low': 1, 'Medium': 2, 'Variable': 3}\n",
      "Column: appetite_Frequency\n",
      "{'Irregular': 0, 'Regular': 1}\n",
      "Column: bladder_Frequency\n",
      "{'Irregular': 0, 'Regular': 1}\n",
      "Column: perspiration_Amount\n",
      "{'High': 0, 'Low': 1, 'Medium': 2}\n",
      "Column: stool_Consistency\n",
      "{'Hard': 0, 'Loose/Soft/Semisolid': 1, 'Medium': 2}\n",
      "Column: mental_Power\n",
      "{'Grade1': 0, 'Grade2': 1, 'Grade3': 2}\n",
      "Column: physical_Power\n",
      "{'Grade1': 0, 'Grade2': 1, 'Grade3': 2}\n",
      "Column: Anger_Freq\n",
      "{'Good': 0, 'Medium': 1, 'Poor': 2}\n",
      "Column: Irritability_speed\n",
      "{'Moderately': 0, 'Quickly': 1, 'Slowly': 2, 'Variably': 3}\n",
      "Column: speech_Argumentative\n",
      "{'Argumentative': 0, 'Non_Argumentative': 1}\n",
      "Column: class\n",
      "{'Kapha': 0, 'Pitta': 1, 'Vata': 2}\n"
     ]
    }
   ],
   "source": [
    "from sklearn.preprocessing import LabelEncoder\n",
    "import pandas as pd\n",
    "le = LabelEncoder()\n",
    "\n",
    "# Dictionary to store label encoders for each column\n",
    "label_encoders = {}\n",
    "\n",
    "# Fit and transform the data\n",
    "data_encoded = dataset.apply(lambda col: le.fit_transform(col) if col.dtype == 'object' else col)\n",
    "\n",
    "# Save the mappings\n",
    "for column in dataset.select_dtypes(include=['object']).columns:\n",
    "    le = LabelEncoder()\n",
    "    dataset[column] = le.fit_transform(dataset[column])\n",
    "    label_encoders[column] = dict(zip(le.classes_, le.transform(le.classes_)))\n",
    "\n",
    "# Print the mappings\n",
    "for column, mapping in label_encoders.items():\n",
    "    print(f\"Column: {column}\")\n",
    "    print(mapping)"
   ]
  },
  {
   "cell_type": "code",
   "execution_count": 20,
   "metadata": {},
   "outputs": [],
   "source": [
    "from sklearn.model_selection import train_test_split\n",
    "\n",
    "X_train, X_test, y_train, y_test = train_test_split(X, y, test_size=0.20)"
   ]
  },
  {
   "cell_type": "code",
   "execution_count": 11,
   "metadata": {},
   "outputs": [
    {
     "name": "stdout",
     "output_type": "stream",
     "text": [
      "Epoch 1/50\n",
      "4/4 [==============================] - 2s 5ms/step - loss: 1.1062 - accuracy: 0.3333\n",
      "Epoch 2/50\n",
      "4/4 [==============================] - 0s 7ms/step - loss: 1.0658 - accuracy: 0.3846\n",
      "Epoch 3/50\n",
      "4/4 [==============================] - 0s 6ms/step - loss: 1.0048 - accuracy: 0.4957\n",
      "Epoch 4/50\n",
      "4/4 [==============================] - 0s 3ms/step - loss: 0.9667 - accuracy: 0.6068\n",
      "Epoch 5/50\n",
      "4/4 [==============================] - 0s 5ms/step - loss: 0.9536 - accuracy: 0.6325\n",
      "Epoch 6/50\n",
      "4/4 [==============================] - 0s 5ms/step - loss: 0.9100 - accuracy: 0.6752\n",
      "Epoch 7/50\n",
      "4/4 [==============================] - 0s 3ms/step - loss: 0.8794 - accuracy: 0.7009\n",
      "Epoch 8/50\n",
      "4/4 [==============================] - 0s 5ms/step - loss: 0.8463 - accuracy: 0.7521\n",
      "Epoch 9/50\n",
      "4/4 [==============================] - 0s 3ms/step - loss: 0.7813 - accuracy: 0.7778\n",
      "Epoch 10/50\n",
      "4/4 [==============================] - 0s 5ms/step - loss: 0.7566 - accuracy: 0.7949\n",
      "Epoch 11/50\n",
      "4/4 [==============================] - 0s 3ms/step - loss: 0.6996 - accuracy: 0.7863\n",
      "Epoch 12/50\n",
      "4/4 [==============================] - 0s 3ms/step - loss: 0.6785 - accuracy: 0.8291\n",
      "Epoch 13/50\n",
      "4/4 [==============================] - 0s 7ms/step - loss: 0.6259 - accuracy: 0.8205\n",
      "Epoch 14/50\n",
      "4/4 [==============================] - 0s 3ms/step - loss: 0.5820 - accuracy: 0.8205\n",
      "Epoch 15/50\n",
      "4/4 [==============================] - 0s 3ms/step - loss: 0.5686 - accuracy: 0.8376\n",
      "Epoch 16/50\n",
      "4/4 [==============================] - 0s 7ms/step - loss: 0.5143 - accuracy: 0.8462\n",
      "Epoch 17/50\n",
      "4/4 [==============================] - 0s 3ms/step - loss: 0.4805 - accuracy: 0.8291\n",
      "Epoch 18/50\n",
      "4/4 [==============================] - 0s 3ms/step - loss: 0.4730 - accuracy: 0.8462\n",
      "Epoch 19/50\n",
      "4/4 [==============================] - 0s 3ms/step - loss: 0.4116 - accuracy: 0.8889\n",
      "Epoch 20/50\n",
      "4/4 [==============================] - 0s 7ms/step - loss: 0.3984 - accuracy: 0.8718\n",
      "Epoch 21/50\n",
      "4/4 [==============================] - 0s 3ms/step - loss: 0.4226 - accuracy: 0.8462\n",
      "Epoch 22/50\n",
      "4/4 [==============================] - 0s 3ms/step - loss: 0.3751 - accuracy: 0.8974\n",
      "Epoch 23/50\n",
      "4/4 [==============================] - 0s 7ms/step - loss: 0.3344 - accuracy: 0.8889\n",
      "Epoch 24/50\n",
      "4/4 [==============================] - 0s 7ms/step - loss: 0.3087 - accuracy: 0.8547\n",
      "Epoch 25/50\n",
      "4/4 [==============================] - 0s 3ms/step - loss: 0.2777 - accuracy: 0.9060\n",
      "Epoch 26/50\n",
      "4/4 [==============================] - 0s 5ms/step - loss: 0.2868 - accuracy: 0.8974\n",
      "Epoch 27/50\n",
      "4/4 [==============================] - 0s 7ms/step - loss: 0.2897 - accuracy: 0.8974\n",
      "Epoch 28/50\n",
      "4/4 [==============================] - 0s 7ms/step - loss: 0.2712 - accuracy: 0.8974\n",
      "Epoch 29/50\n",
      "4/4 [==============================] - 0s 3ms/step - loss: 0.2480 - accuracy: 0.9060\n",
      "Epoch 30/50\n",
      "4/4 [==============================] - 0s 7ms/step - loss: 0.2821 - accuracy: 0.8632\n",
      "Epoch 31/50\n",
      "4/4 [==============================] - 0s 5ms/step - loss: 0.2295 - accuracy: 0.8974\n",
      "Epoch 32/50\n",
      "4/4 [==============================] - 0s 3ms/step - loss: 0.2080 - accuracy: 0.9316\n",
      "Epoch 33/50\n",
      "4/4 [==============================] - 0s 3ms/step - loss: 0.2433 - accuracy: 0.8718\n",
      "Epoch 34/50\n",
      "4/4 [==============================] - 0s 7ms/step - loss: 0.2039 - accuracy: 0.9316\n",
      "Epoch 35/50\n",
      "4/4 [==============================] - 0s 9ms/step - loss: 0.1990 - accuracy: 0.9231\n",
      "Epoch 36/50\n",
      "4/4 [==============================] - 0s 6ms/step - loss: 0.1873 - accuracy: 0.9145\n",
      "Epoch 37/50\n",
      "4/4 [==============================] - 0s 3ms/step - loss: 0.1450 - accuracy: 0.9658\n",
      "Epoch 38/50\n",
      "4/4 [==============================] - 0s 4ms/step - loss: 0.1910 - accuracy: 0.9231\n",
      "Epoch 39/50\n",
      "4/4 [==============================] - 0s 3ms/step - loss: 0.1655 - accuracy: 0.9402\n",
      "Epoch 40/50\n",
      "4/4 [==============================] - 0s 4ms/step - loss: 0.1355 - accuracy: 0.9829\n",
      "Epoch 41/50\n",
      "4/4 [==============================] - 0s 5ms/step - loss: 0.1456 - accuracy: 0.9487\n",
      "Epoch 42/50\n",
      "4/4 [==============================] - 0s 7ms/step - loss: 0.1283 - accuracy: 0.9573\n",
      "Epoch 43/50\n",
      "4/4 [==============================] - 0s 4ms/step - loss: 0.1168 - accuracy: 0.9573\n",
      "Epoch 44/50\n",
      "4/4 [==============================] - 0s 5ms/step - loss: 0.0886 - accuracy: 0.9829\n",
      "Epoch 45/50\n",
      "4/4 [==============================] - 0s 4ms/step - loss: 0.1319 - accuracy: 0.9402\n",
      "Epoch 46/50\n",
      "4/4 [==============================] - 0s 5ms/step - loss: 0.1308 - accuracy: 0.9402\n",
      "Epoch 47/50\n",
      "4/4 [==============================] - 0s 5ms/step - loss: 0.0884 - accuracy: 0.9829\n",
      "Epoch 48/50\n",
      "4/4 [==============================] - 0s 5ms/step - loss: 0.0755 - accuracy: 0.9915\n",
      "Epoch 49/50\n",
      "4/4 [==============================] - 0s 5ms/step - loss: 0.1547 - accuracy: 0.9402\n",
      "Epoch 50/50\n",
      "4/4 [==============================] - 0s 4ms/step - loss: 0.0573 - accuracy: 0.9915\n"
     ]
    },
    {
     "data": {
      "text/plain": [
       "<keras.src.callbacks.History at 0x1efb14b2690>"
      ]
     },
     "execution_count": 11,
     "metadata": {},
     "output_type": "execute_result"
    }
   ],
   "source": [
    "from tensorflow.keras.models import Sequential\n",
    "from tensorflow.keras.layers import Dense\n",
    "from tensorflow.keras.layers import Dropout\n",
    "from tensorflow.keras import Input\n",
    "\n",
    "model = Sequential([\n",
    "    Input((34,)),\n",
    "    Dense(34, activation='relu'),\n",
    "    Dense(30, activation='relu'),\n",
    "    Dropout(0.2),\n",
    "    Dense(20, activation='relu'),\n",
    "    Dense(10, activation='relu'),\n",
    "    Dense(3, activation='softmax')\n",
    "])\n",
    "\n",
    "model.compile(optimizer='adam',loss='sparse_categorical_crossentropy',metrics=['accuracy'])\n",
    "model.fit(X_train, y_train, epochs=50)"
   ]
  },
  {
   "cell_type": "code",
   "execution_count": 12,
   "metadata": {},
   "outputs": [
    {
     "name": "stdout",
     "output_type": "stream",
     "text": [
      "1/1 [==============================] - 0s 310ms/step - loss: 0.2568 - accuracy: 0.9667\n"
     ]
    },
    {
     "data": {
      "text/plain": [
       "[0.2568081021308899, 0.9666666388511658]"
      ]
     },
     "execution_count": 12,
     "metadata": {},
     "output_type": "execute_result"
    }
   ],
   "source": [
    "model.evaluate(X_test, y_test)"
   ]
  },
  {
   "cell_type": "code",
   "execution_count": 13,
   "metadata": {},
   "outputs": [
    {
     "name": "stdout",
     "output_type": "stream",
     "text": [
      "1/1 [==============================] - 0s 200ms/step\n"
     ]
    }
   ],
   "source": [
    "y_pred=model.predict(X_test)\n",
    "y_pred=np.argmax(y_pred, axis=1)"
   ]
  },
  {
   "cell_type": "code",
   "execution_count": 15,
   "metadata": {},
   "outputs": [
    {
     "data": {
      "image/png": "[encoded data removed]",
      "text/plain": [
       "<Figure size 1000x700 with 2 Axes>"
      ]
     },
     "metadata": {},
     "output_type": "display_data"
    }
   ],
   "source": [
    "import seaborn as sn\n",
    "import tensorflow as tf\n",
    "import matplotlib.pyplot as plt\n",
    "cm = tf.math.confusion_matrix(labels=y_test,predictions=y_pred)\n",
    "\n",
    "plt.figure(figsize = (10,7))\n",
    "sn.heatmap(cm, annot=True, fmt='d')\n",
    "plt.xlabel('Predicted')\n",
    "plt.ylabel('Truth')\n",
    "plt.show()"
   ]
  },
  {
   "cell_type": "code",
   "execution_count": 16,
   "metadata": {},
   "outputs": [],
   "source": [
    "model.save('local_model.keras')"
   ]
  },
  {
   "cell_type": "code",
   "execution_count": 17,
   "metadata": {},
   "outputs": [
    {
     "name": "stdout",
     "output_type": "stream",
     "text": [
      "[1 2 0 4 0 0 2 0 2 2 1 1 2 0 1 1 1 2 1 3 2 2 1 1 2 1 1 1 2 0 1 1 2 1]\n",
      "(34,)\n"
     ]
    }
   ],
   "source": [
    "print(X_test[5])\n",
    "print(X_test[5].shape)"
   ]
  },
  {
   "cell_type": "code",
   "execution_count": 18,
   "metadata": {},
   "outputs": [
    {
     "name": "stdout",
     "output_type": "stream",
     "text": [
      "2\n"
     ]
    }
   ],
   "source": [
    "print(y_test[5])"
   ]
  },
  {
   "cell_type": "code",
   "execution_count": 19,
   "metadata": {},
   "outputs": [
    {
     "name": "stdout",
     "output_type": "stream",
     "text": [
      "1/1 [==============================] - 0s 49ms/step\n"
     ]
    }
   ],
   "source": [
    "pred5 = model.predict(X_test[5].reshape(1, 34))\n",
    "pred = np.argmax(pred5, axis=1)[0]"
   ]
  },
  {
   "cell_type": "code",
   "execution_count": 20,
   "metadata": {},
   "outputs": [
    {
     "name": "stdout",
     "output_type": "stream",
     "text": [
      "2\n"
     ]
    }
   ],
   "source": [
    "print(pred)"
   ]
  },
  {
   "cell_type": "code",
   "execution_count": 23,
   "metadata": {},
   "outputs": [],
   "source": [
    "model.save_weights('local_model.weights.h5')"
   ]
  },
  {
   "cell_type": "code",
   "execution_count": 21,
   "metadata": {},
   "outputs": [
    {
     "name": "stdout",
     "output_type": "stream",
     "text": [
      "[1 0 1 4 3 1 1 1 1 0 2 2 2 0 0 1 1 1 1 0 1 0 1 1 2 1 1 2 2 2 2 0 2 1]\n"
     ]
    }
   ],
   "source": [
    "print(X_train[0])"
   ]
  },
  {
   "cell_type": "code",
   "execution_count": 22,
   "metadata": {},
   "outputs": [
    {
     "name": "stdout",
     "output_type": "stream",
     "text": [
      "0\n"
     ]
    }
   ],
   "source": [
    "print(y_train[0])"
   ]
  },
  {
   "cell_type": "code",
   "execution_count": null,
   "metadata": {},
   "outputs": [],
   "source": []
  }
 ],
 "metadata": {
  "kaggle": {
   "accelerator": "none",
   "dataSources": [
    {
     "datasetId": 5013722,
     "sourceId": 8421530,
     "sourceType": "datasetVersion"
    }
   ],
   "dockerImageVersionId": 30699,
   "isGpuEnabled": false,
   "isInternetEnabled": true,
   "language": "python",
   "sourceType": "notebook"
  },
  "kernelspec": {
   "display_name": "Python 3 (ipykernel)",
   "language": "python",
   "name": "python3"
  },
  "language_info": {
   "codemirror_mode": {
    "name": "ipython",
    "version": 3
   },
   "file_extension": ".py",
   "mimetype": "text/x-python",
   "name": "python",
   "nbconvert_exporter": "python",
   "pygments_lexer": "ipython3",
   "version": "3.11.2"
  }
 },
 "nbformat": 4,
 "nbformat_minor": 4
}
